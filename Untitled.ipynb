{
 "cells": [
  {
   "cell_type": "code",
   "execution_count": 24,
   "metadata": {
    "collapsed": true
   },
   "outputs": [],
   "source": [
    "import numpy as np\n",
    "import pandas as pd\n",
    "\n",
    "import matplotlib.pyplot as plt\n",
    "\n",
    "from sklearn.svm import SVR\n",
    "from sklearn.ensemble import GradientBoostingRegressor\n",
    "\n",
    "from sklearn.metrics import mean_absolute_error\n",
    "from sklearn.model_selection import KFold, cross_val_score, GridSearchCV\n",
    "\n",
    "% matplotlib inline"
   ]
  },
  {
   "cell_type": "code",
   "execution_count": 2,
   "metadata": {
    "collapsed": true
   },
   "outputs": [],
   "source": [
    "# reading data\n",
    "data_path = './data/'\n",
    "\n",
    "historical_demand = pd.read_csv(data_path+'train/historical_demand.csv')"
   ]
  },
  {
   "cell_type": "code",
   "execution_count": 3,
   "metadata": {},
   "outputs": [
    {
     "data": {
      "text/html": [
       "<div>\n",
       "<style>\n",
       "    .dataframe thead tr:only-child th {\n",
       "        text-align: right;\n",
       "    }\n",
       "\n",
       "    .dataframe thead th {\n",
       "        text-align: left;\n",
       "    }\n",
       "\n",
       "    .dataframe tbody tr th {\n",
       "        vertical-align: top;\n",
       "    }\n",
       "</style>\n",
       "<table border=\"1\" class=\"dataframe\">\n",
       "  <thead>\n",
       "    <tr style=\"text-align: right;\">\n",
       "      <th></th>\n",
       "      <th>Product_ID</th>\n",
       "      <th>Region</th>\n",
       "      <th>Month</th>\n",
       "      <th>Demand</th>\n",
       "    </tr>\n",
       "  </thead>\n",
       "  <tbody>\n",
       "    <tr>\n",
       "      <th>0</th>\n",
       "      <td>P1</td>\n",
       "      <td>R1</td>\n",
       "      <td>1</td>\n",
       "      <td>0.0</td>\n",
       "    </tr>\n",
       "    <tr>\n",
       "      <th>1</th>\n",
       "      <td>P1</td>\n",
       "      <td>R1</td>\n",
       "      <td>2</td>\n",
       "      <td>0.0</td>\n",
       "    </tr>\n",
       "    <tr>\n",
       "      <th>2</th>\n",
       "      <td>P1</td>\n",
       "      <td>R1</td>\n",
       "      <td>3</td>\n",
       "      <td>0.0</td>\n",
       "    </tr>\n",
       "    <tr>\n",
       "      <th>3</th>\n",
       "      <td>P1</td>\n",
       "      <td>R1</td>\n",
       "      <td>4</td>\n",
       "      <td>0.0</td>\n",
       "    </tr>\n",
       "    <tr>\n",
       "      <th>4</th>\n",
       "      <td>P1</td>\n",
       "      <td>R1</td>\n",
       "      <td>5</td>\n",
       "      <td>0.0</td>\n",
       "    </tr>\n",
       "  </tbody>\n",
       "</table>\n",
       "</div>"
      ],
      "text/plain": [
       "  Product_ID Region  Month  Demand\n",
       "0         P1     R1      1     0.0\n",
       "1         P1     R1      2     0.0\n",
       "2         P1     R1      3     0.0\n",
       "3         P1     R1      4     0.0\n",
       "4         P1     R1      5     0.0"
      ]
     },
     "execution_count": 3,
     "metadata": {},
     "output_type": "execute_result"
    }
   ],
   "source": [
    "historical_demand.head()"
   ]
  },
  {
   "cell_type": "code",
   "execution_count": 4,
   "metadata": {},
   "outputs": [
    {
     "data": {
      "text/html": [
       "<div>\n",
       "<style>\n",
       "    .dataframe thead tr:only-child th {\n",
       "        text-align: right;\n",
       "    }\n",
       "\n",
       "    .dataframe thead th {\n",
       "        text-align: left;\n",
       "    }\n",
       "\n",
       "    .dataframe tbody tr th {\n",
       "        vertical-align: top;\n",
       "    }\n",
       "</style>\n",
       "<table border=\"1\" class=\"dataframe\">\n",
       "  <thead>\n",
       "    <tr style=\"text-align: right;\">\n",
       "      <th></th>\n",
       "      <th>Month</th>\n",
       "      <th>Demand</th>\n",
       "    </tr>\n",
       "  </thead>\n",
       "  <tbody>\n",
       "    <tr>\n",
       "      <th>count</th>\n",
       "      <td>52488.000000</td>\n",
       "      <td>52488.000000</td>\n",
       "    </tr>\n",
       "    <tr>\n",
       "      <th>mean</th>\n",
       "      <td>18.500000</td>\n",
       "      <td>14.986521</td>\n",
       "    </tr>\n",
       "    <tr>\n",
       "      <th>std</th>\n",
       "      <td>10.388394</td>\n",
       "      <td>216.201772</td>\n",
       "    </tr>\n",
       "    <tr>\n",
       "      <th>min</th>\n",
       "      <td>1.000000</td>\n",
       "      <td>0.000000</td>\n",
       "    </tr>\n",
       "    <tr>\n",
       "      <th>25%</th>\n",
       "      <td>9.750000</td>\n",
       "      <td>0.000000</td>\n",
       "    </tr>\n",
       "    <tr>\n",
       "      <th>50%</th>\n",
       "      <td>18.500000</td>\n",
       "      <td>0.000000</td>\n",
       "    </tr>\n",
       "    <tr>\n",
       "      <th>75%</th>\n",
       "      <td>27.250000</td>\n",
       "      <td>0.000000</td>\n",
       "    </tr>\n",
       "    <tr>\n",
       "      <th>max</th>\n",
       "      <td>36.000000</td>\n",
       "      <td>15172.560000</td>\n",
       "    </tr>\n",
       "  </tbody>\n",
       "</table>\n",
       "</div>"
      ],
      "text/plain": [
       "              Month        Demand\n",
       "count  52488.000000  52488.000000\n",
       "mean      18.500000     14.986521\n",
       "std       10.388394    216.201772\n",
       "min        1.000000      0.000000\n",
       "25%        9.750000      0.000000\n",
       "50%       18.500000      0.000000\n",
       "75%       27.250000      0.000000\n",
       "max       36.000000  15172.560000"
      ]
     },
     "execution_count": 4,
     "metadata": {},
     "output_type": "execute_result"
    }
   ],
   "source": [
    "historical_demand.describe()"
   ]
  },
  {
   "cell_type": "code",
   "execution_count": 5,
   "metadata": {},
   "outputs": [
    {
     "name": "stdout",
     "output_type": "stream",
     "text": [
      "<class 'pandas.core.frame.DataFrame'>\n",
      "RangeIndex: 52488 entries, 0 to 52487\n",
      "Data columns (total 4 columns):\n",
      "Product_ID    52488 non-null object\n",
      "Region        52488 non-null object\n",
      "Month         52488 non-null int64\n",
      "Demand        52488 non-null float64\n",
      "dtypes: float64(1), int64(1), object(2)\n",
      "memory usage: 1.6+ MB\n"
     ]
    }
   ],
   "source": [
    "historical_demand.info()"
   ]
  },
  {
   "cell_type": "code",
   "execution_count": 6,
   "metadata": {},
   "outputs": [
    {
     "data": {
      "text/plain": [
       "array(['R1', 'R10', 'R11', 'R12', 'R13', 'R14', 'R15', 'R16', 'R17',\n",
       "       'R18', 'R2', 'R3', 'R4', 'R5', 'R6', 'R7', 'R8', 'R9'],\n",
       "      dtype=object)"
      ]
     },
     "execution_count": 6,
     "metadata": {},
     "output_type": "execute_result"
    }
   ],
   "source": [
    "# np.vstack({tuple(row) for row in historical_demand['Region']})\n",
    "unique_rows = np.unique(historical_demand['Region'])\n",
    "unique_rows"
   ]
  },
  {
   "cell_type": "code",
   "execution_count": 36,
   "metadata": {},
   "outputs": [
    {
     "data": {
      "image/png": "[encoded data removed]",
      "text/plain": [
       "<matplotlib.figure.Figure at 0x1b3bea1d7f0>"
      ]
     },
     "metadata": {},
     "output_type": "display_data"
    },
    {
     "name": "stdout",
     "output_type": "stream",
     "text": [
      "{'max_depth': 3, 'n_estimators': 100}\n",
      "{'mean_fit_time': array([0.01100516, 0.02018046, 0.02984866, 0.04770025, 0.01017427,\n",
      "       0.02018015, 0.02985032, 0.04836472, 0.01100119, 0.02184828,\n",
      "       0.03019134, 0.04636335]), 'std_fit_time': array([4.05498396e-04, 2.36022673e-04, 4.76090575e-04, 8.47936100e-04,\n",
      "       2.35685498e-04, 4.71314972e-04, 4.74536644e-04, 8.46424333e-04,\n",
      "       3.84109687e-06, 2.28695523e-04, 2.33926118e-04, 6.21275481e-04]), 'mean_score_time': array([0.00016689, 0.00033371, 0.00016705, 0.00050028, 0.00016689,\n",
      "       0.00016697, 0.00033363, 0.00033561, 0.00033434, 0.00049742,\n",
      "       0.00050036, 0.00050068]), 'std_score_time': array([2.36022352e-04, 2.35966176e-04, 2.36247135e-04, 5.94720425e-07,\n",
      "       2.36022352e-04, 2.36134743e-04, 2.35910040e-04, 2.37327330e-04,\n",
      "       2.36415903e-04, 4.44906076e-06, 1.12391596e-07, 5.15042996e-07]), 'param_max_depth': masked_array(data=[3, 3, 3, 3, 4, 4, 4, 4, 5, 5, 5, 5],\n",
      "             mask=[False, False, False, False, False, False, False, False,\n",
      "                   False, False, False, False],\n",
      "       fill_value='?',\n",
      "            dtype=object), 'param_n_estimators': masked_array(data=[100, 200, 300, 500, 100, 200, 300, 500, 100, 200, 300,\n",
      "                   500],\n",
      "             mask=[False, False, False, False, False, False, False, False,\n",
      "                   False, False, False, False],\n",
      "       fill_value='?',\n",
      "            dtype=object), 'params': [{'max_depth': 3, 'n_estimators': 100}, {'max_depth': 3, 'n_estimators': 200}, {'max_depth': 3, 'n_estimators': 300}, {'max_depth': 3, 'n_estimators': 500}, {'max_depth': 4, 'n_estimators': 100}, {'max_depth': 4, 'n_estimators': 200}, {'max_depth': 4, 'n_estimators': 300}, {'max_depth': 4, 'n_estimators': 500}, {'max_depth': 5, 'n_estimators': 100}, {'max_depth': 5, 'n_estimators': 200}, {'max_depth': 5, 'n_estimators': 300}, {'max_depth': 5, 'n_estimators': 500}], 'split0_test_score': array([-3.65321627, -3.69986003, -3.70291081, -3.70314172, -3.68062752,\n",
      "       -3.70280487, -3.70312702, -3.70312702, -3.69778673, -3.70312774,\n",
      "       -3.70312774, -3.70312774]), 'split1_test_score': array([-2.63393493, -2.77811096, -2.7867401 , -2.78738704, -2.71844106,\n",
      "       -2.78552643, -2.78734843, -2.78734843, -2.77291604, -2.78733858,\n",
      "       -2.78733858, -2.78733858]), 'split2_test_score': array([-1.34030514, -1.43186508, -1.43552973, -1.43561472, -1.42256796,\n",
      "       -1.43558134, -1.43561055, -1.43561055, -1.43464821, -1.4356266 ,\n",
      "       -1.4356266 , -1.4356266 ]), 'mean_test_score': array([-2.54248545, -2.63661203, -2.64172688, -2.64204783, -2.60721218,\n",
      "       -2.64130421, -2.64202867, -2.64202867, -2.635117  , -2.64203097,\n",
      "       -2.64203097, -2.64203097]), 'std_test_score': array([0.94645364, 0.93129542, 0.93131659, 0.9314012 , 0.92519805,\n",
      "       0.93119123, 0.93139541, 0.93139541, 0.92904626, 0.93138824,\n",
      "       0.93138824, 0.93138824]), 'rank_test_score': array([ 1,  4,  6, 12,  2,  5,  7,  8,  3, 11,  9,  9]), 'split0_train_score': array([0.99834096, 0.99999417, 0.99999995, 1.        , 0.99978904,\n",
      "       0.99999992, 1.        , 1.        , 0.99999294, 1.        ,\n",
      "       1.        , 1.        ]), 'split1_train_score': array([0.99863458, 0.99998834, 0.99999993, 1.        , 0.99975244,\n",
      "       0.9999998 , 1.        , 1.        , 0.99998425, 1.        ,\n",
      "       1.        , 1.        ]), 'split2_train_score': array([0.99842169, 0.9999982 , 1.        , 1.        , 0.99997556,\n",
      "       1.        , 1.        , 1.        , 0.99999844, 1.        ,\n",
      "       1.        , 1.        ]), 'mean_train_score': array([0.99846574, 0.99999357, 0.99999996, 1.        , 0.99983901,\n",
      "       0.99999991, 1.        , 1.        , 0.99999188, 1.        ,\n",
      "       1.        , 1.        ]), 'std_train_score': array([1.23852520e-04, 4.05076927e-06, 2.70791833e-08, 1.06785133e-10,\n",
      "       9.77024802e-05, 7.98564615e-08, 1.03688545e-10, 1.03688545e-10,\n",
      "       5.84075491e-06, 9.83877508e-11, 9.83877508e-11, 9.83877508e-11])}\n",
      "MAE test  21.415920441785627\n",
      "MAE train  1.3779420710582713\n"
     ]
    },
    {
     "data": {
      "image/png": "[encoded data removed]",
      "text/plain": [
       "<matplotlib.figure.Figure at 0x1b3bec2f470>"
      ]
     },
     "metadata": {},
     "output_type": "display_data"
    },
    {
     "name": "stdout",
     "output_type": "stream",
     "text": [
      "[-0.0029965  -1.54029612 -0.48392862 -0.61048421 -0.01750402]\n",
      "TRAIN: [15 16 17 18 19 20 21 22 23 24 25 26 27 28 29] TEST: [ 0  1  2  3  4  5  6  7  8  9 10 11 12 13 14]\n",
      "TRAIN: [ 0  1  2  3  4  5  6  7  8  9 10 11 12 13 14] TEST: [15 16 17 18 19 20 21 22 23 24 25 26 27 28 29]\n"
     ]
    }
   ],
   "source": [
    "temp1 = historical_demand.loc[(historical_demand['Region'] == 'R10') & (historical_demand['Product_ID'] == 'P13')]\n",
    "plt.plot(temp1['Month'], temp1['Demand'], 'ro')\n",
    "plt.show()\n",
    "\n",
    "X = temp1[:30]['Month']\n",
    "X = X.values.reshape(-1,1)\n",
    "y = temp1[:30]['Demand']\n",
    "\n",
    "x_train = temp1[:30]['Month']\n",
    "x_train = x_train.values.reshape(-1,1)\n",
    "x_test = temp1[30:]['Month']\n",
    "x_test = x_test.values.reshape(-1,1)\n",
    "y_train = temp1[:30]['Demand']\n",
    "y_test = temp1[30:]['Demand']\n",
    "\n",
    "# model = SVR(kernel='poly', C=1e3, degree=5)\n",
    "parameters = {'max_depth':[3,4,5], 'n_estimators':[100, 200, 300, 500]}\n",
    "clf = GradientBoostingRegressor(n_estimators=150, learning_rate=0.2, max_depth=4, random_state=1234, loss='ls')\n",
    "clf = GradientBoostingRegressor()\n",
    "model = GridSearchCV(clf, parameters)\n",
    "model = model.fit(X, y)\n",
    "print(model.best_params_)\n",
    "print(model.cv_results_ )\n",
    "model = model.best_estimator_\n",
    "print(\"MAE test \",mean_absolute_error(y_test, model.predict(x_test)))\n",
    "print(\"MAE train \",mean_absolute_error(y_train, model.predict(x_train)))\n",
    "plt.plot(X, model.predict(X), 'ro')\n",
    "plt.show()\n",
    "\n",
    "\n",
    "scores = cross_val_score(GradientBoostingRegressor(n_estimators=150, learning_rate=0.2, max_depth=4, random_state=1234, loss='ls'), X, y, cv=5)\n",
    "print(scores)\n",
    "\n",
    "kf = KFold(n_splits=2)\n",
    "kf.get_n_splits(X)\n",
    "for train_index, test_index in kf.split(X):\n",
    "    print(\"TRAIN:\", train_index, \"TEST:\", test_index)\n",
    "    X_train, X_test = X[train_index], X[test_index]\n",
    "    y_train, y_test = y[train_index], y[test_index]"
   ]
  },
  {
   "cell_type": "code",
   "execution_count": 42,
   "metadata": {},
   "outputs": [
    {
     "name": "stderr",
     "output_type": "stream",
     "text": [
      "C:\\Anaconda3\\envs\\ml\\lib\\site-packages\\ipykernel_launcher.py:1: FutureWarning: reshape is deprecated and will raise in a subsequent release. Please use .values.reshape(...) instead\n",
      "  \"\"\"Entry point for launching an IPython kernel.\n"
     ]
    },
    {
     "data": {
      "text/plain": [
       "[<matplotlib.lines.Line2D at 0x14d38cd4828>]"
      ]
     },
     "execution_count": 42,
     "metadata": {},
     "output_type": "execute_result"
    },
    {
     "data": {
      "image/png": "[encoded data removed]",
      "text/plain": [
       "<matplotlib.figure.Figure at 0x14d38c7db70>"
      ]
     },
     "metadata": {},
     "output_type": "display_data"
    }
   ],
   "source": [
    "plt.plot(x_train, model.predict(x_train), 'ro')"
   ]
  },
  {
   "cell_type": "code",
   "execution_count": 27,
   "metadata": {},
   "outputs": [
    {
     "data": {
      "text/plain": [
       "[<matplotlib.lines.Line2D at 0x14d3666ce48>]"
      ]
     },
     "execution_count": 27,
     "metadata": {},
     "output_type": "execute_result"
    },
    {
     "data": {
      "image/png": "[encoded data removed]",
      "text/plain": [
       "<matplotlib.figure.Figure at 0x14d3746ca90>"
      ]
     },
     "metadata": {},
     "output_type": "display_data"
    }
   ],
   "source": [
    "# plt.hist(historical_demand[['Month', 'Demand']])\n",
    "plt.plot(historical_demand['Month'], historical_demand['Demand'], 'ro')"
   ]
  },
  {
   "cell_type": "code",
   "execution_count": null,
   "metadata": {
    "collapsed": true
   },
   "outputs": [],
   "source": []
  }
 ],
 "metadata": {
  "kernelspec": {
   "display_name": "Python 3",
   "language": "python",
   "name": "python3"
  },
  "language_info": {
   "codemirror_mode": {
    "name": "ipython",
    "version": 3
   },
   "file_extension": ".py",
   "mimetype": "text/x-python",
   "name": "python",
   "nbconvert_exporter": "python",
   "pygments_lexer": "ipython3",
   "version": "3.6.3"
  }
 },
 "nbformat": 4,
 "nbformat_minor": 2
}
