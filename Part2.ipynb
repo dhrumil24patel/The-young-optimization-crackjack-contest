{
 "cells": [
  {
   "cell_type": "code",
   "execution_count": 1,
   "metadata": {
    "collapsed": true
   },
   "outputs": [],
   "source": [
    "import numpy as np\n",
    "import pandas as pd\n",
    "from scipy.stats import itemfreq\n",
    "\n",
    "import matplotlib.pyplot as plt\n",
    "% matplotlib inline"
   ]
  },
  {
   "cell_type": "code",
   "execution_count": 2,
   "metadata": {
    "collapsed": true
   },
   "outputs": [],
   "source": [
    "# reading data\n",
    "data_path = './data/'\n",
    "\n",
    "predicted_demand = pd.read_csv('./predicted_demand.csv')\n",
    "# predicted_demand = pd.read_csv(data_path+'train/historical_demand.csv')\n",
    "delivery_cost = pd.read_csv(data_path+'train/delivery_cost.csv')\n",
    "production_capacity = pd.read_csv(data_path+'train/production_capacity.csv')"
   ]
  },
  {
   "cell_type": "code",
   "execution_count": 3,
   "metadata": {
    "collapsed": true
   },
   "outputs": [],
   "source": [
    "regions = np.unique(predicted_demand['Region'])\n",
    "products = np.unique(predicted_demand['Product_ID'])"
   ]
  },
  {
   "cell_type": "code",
   "execution_count": 10,
   "metadata": {
    "collapsed": true
   },
   "outputs": [],
   "source": [
    "def get_suited_plant_from_region_delivery_cost(prod, region_delivery_cost):\n",
    "    # right now we are considering that region_delivery_cost will contain only\n",
    "    # one region's cost\n",
    "    regions = region_delivery_cost['Region'].tolist()\n",
    "    delivery_cost_arr = region_delivery_cost['Delivery_cost'].tolist()\n",
    "    delivery_cost_arr = sorted(delivery_cost_arr)\n",
    "    result = pd.DataFrame(columns=['Plant', 'Line', 'Product', 'Capacity'])\n",
    "    for deli_cost in delivery_cost_arr:\n",
    "        region_deli_cost = region_delivery_cost.loc[\\\n",
    "                   (region_delivery_cost['Delivery_cost'] == deli_cost)]\n",
    "        capacity = production_capacity.loc[\\\n",
    "                            (production_capacity['Product'] == prod)]\n",
    "        if capacity['Capacity'].sum() > 0:\n",
    "            result.append(capacity)\n",
    "    return result"
   ]
  },
  {
   "cell_type": "code",
   "execution_count": 8,
   "metadata": {
    "collapsed": true
   },
   "outputs": [],
   "source": [
    "def find_optimal_solution():\n",
    "    # Calculate the product demand overall\n",
    "    for i in range(len(products)):\n",
    "        freq = predicted_demand.\\\n",
    "            loc[(predicted_demand['Product_ID'] == products[i])]\n",
    "        prod_freq[i] = freq['Demand'].sum()\n",
    "    # sort the prod_freq\n",
    "    sorted_freq = sorted(prod_freq)\n",
    "    # reverse it\n",
    "    sorted_freq.reverse()\n",
    "    print(\"Top tend demanding products \",\\\n",
    "          [products[prod_freq.index(freq)] for freq in sorted_freq][:10])\n",
    "    \n",
    "    # loop through the prod_freq\n",
    "    for freq in sorted_freq:\n",
    "        prod = products[prod_freq.index(freq)]\n",
    "        # get where the demand is\n",
    "        demand_region_df = predicted_demand.loc[\\\n",
    "                                (predicted_demand['Product_ID'] == prod) \\\n",
    "                                        & (predicted_demand['Demand'] > 0)]\n",
    "        # here we may have to find regions list from demand_region and then itereate over them\n",
    "        # get delivery cost for demand_region\n",
    "        demand_region_name = demand_region_df['Region'].iloc[0]\n",
    "        region_delivery_cost = delivery_cost.loc[(delivery_cost['Region'] == demand_region_name)]\n",
    "        "
   ]
  },
  {
   "cell_type": "code",
   "execution_count": null,
   "metadata": {
    "collapsed": true
   },
   "outputs": [],
   "source": []
  }
 ],
 "metadata": {
  "kernelspec": {
   "display_name": "Python 3",
   "language": "python",
   "name": "python3"
  },
  "language_info": {
   "codemirror_mode": {
    "name": "ipython",
    "version": 3
   },
   "file_extension": ".py",
   "mimetype": "text/x-python",
   "name": "python",
   "nbconvert_exporter": "python",
   "pygments_lexer": "ipython3",
   "version": "3.5.2"
  },
  "widgets": {
   "state": {},
   "version": "1.1.2"
  }
 },
 "nbformat": 4,
 "nbformat_minor": 2
}
